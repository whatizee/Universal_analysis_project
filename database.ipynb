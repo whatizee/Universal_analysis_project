{
 "cells": [
  {
   "cell_type": "code",
   "execution_count": null,
   "id": "706733b7",
   "metadata": {},
   "outputs": [],
   "source": [
    "#inserting the population data into total_population table in popu\n",
    "%run data_processing.ipynb\n",
    "import sqlite3\n",
    "Population_df = data_process_population()\n",
    "\n",
    "connetion = sqlite3.connect(\"Universal_analysis.db\")\n",
    "Population_df.to_sql('total_population', connetion,if_exists='replace')\n",
    "connetion.commit()\n",
    "connetion.close()\n",
    "\n",
    "def fetch_population():\n",
    "    connection = sqlite3.connect('Universal_analysis.db')\n",
    "    cursor = connection.cursor()\n",
    "    # Retrieve the total population from the 'total_population' table\n",
    "    cursor.execute(\"SELECT * FROM total_population\")\n",
    "    total_population = cursor.fetchall()\n",
    "    connection.close()\n",
    "    \n",
    "    \n",
    "    return total_population\n"
   ]
  },
  {
   "cell_type": "code",
   "execution_count": null,
   "id": "091100f9",
   "metadata": {},
   "outputs": [],
   "source": []
  },
  {
   "cell_type": "code",
   "execution_count": null,
   "id": "a3bf71d3",
   "metadata": {},
   "outputs": [],
   "source": []
  }
 ],
 "metadata": {
  "kernelspec": {
   "display_name": "Python 3 (ipykernel)",
   "language": "python",
   "name": "python3"
  },
  "language_info": {
   "codemirror_mode": {
    "name": "ipython",
    "version": 3
   },
   "file_extension": ".py",
   "mimetype": "text/x-python",
   "name": "python",
   "nbconvert_exporter": "python",
   "pygments_lexer": "ipython3",
   "version": "3.8.4"
  }
 },
 "nbformat": 4,
 "nbformat_minor": 5
}
