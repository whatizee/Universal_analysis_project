{
 "cells": [
  {
   "cell_type": "code",
   "execution_count": null,
   "id": "4af0624b",
   "metadata": {},
   "outputs": [],
   "source": [
    "def web_scrapper_population():\n",
    "    print(\"Executing scraping population data from wikipedia........\")\n",
    "    import datetime    \n",
    "    # Get the start time\n",
    "    start_time = datetime.datetime.now()\n",
    "    print(\"Start Time:\", start_time)\n",
    "    from bs4 import BeautifulSoup\n",
    "    import pandas as pd\n",
    "    import requests\n",
    "    import sqlite3\n",
    "    \n",
    "    url = \"https://en.wikipedia.org/wiki/List_of_countries_and_dependencies_by_population\"\n",
    "    r = requests.get(url)\n",
    "\n",
    "    if r.status_code == 200:\n",
    "        soup = BeautifulSoup(r.text, \"lxml\")\n",
    "\n",
    "        # Try to find the table by searching for a specific caption\n",
    "        table = soup.find(\"table\", {\"class\": \"wikitable\"})\n",
    "        header = table.find_all(\"th\")\n",
    "\n",
    "        column_names = [th.get_text(strip=True).replace('–', '').replace('\\xa0', ' ').strip() for th in header if th.get_text(strip=True) != '' and not th.get_text(strip=True).isnumeric()]\n",
    "        Headings = [item for item in column_names if item != '']\n",
    "        #print(Headings)\n",
    "        Population_df = pd.DataFrame(columns=Headings)\n",
    "        #print(Population_df)\n",
    "        observations = table.find_all(\"tr\")\n",
    "        for i in observations[1:]:\n",
    "            data = i.find_all(\"td\")\n",
    "            row_data = [column.get_text(strip=True) for column in data]\n",
    "            row_data.pop()\n",
    "            data.append(row_data)\n",
    "            if len(row_data) == len(Headings):\n",
    "                new_row = dict(zip(Headings, row_data))\n",
    "                Population_df = pd.concat([Population_df, pd.DataFrame([new_row])], ignore_index=True)\n",
    "\n",
    "        print(\"web scraping completed successfully......\")\n",
    "        print(\"Data Collected is given below\")\n",
    "        display(Population_df)\n",
    "        end_time = datetime.datetime.now()\n",
    "        elapsed_time = end_time - start_time\n",
    "        print(\"Total Scrapping Time:\", elapsed_time)\n",
    "        #print(Population_df.columns)\n",
    "        \n",
    "        \n",
    "\n",
    "    else:\n",
    "        print(\"Failed to retrieve the webpage. Status code:\", r.status_code)\n",
    "\n",
    "\n",
    "    return Population_df\n"
   ]
  },
  {
   "cell_type": "code",
   "execution_count": null,
   "id": "62c35844",
   "metadata": {},
   "outputs": [],
   "source": []
  }
 ],
 "metadata": {
  "kernelspec": {
   "display_name": "Python 3 (ipykernel)",
   "language": "python",
   "name": "python3"
  },
  "language_info": {
   "codemirror_mode": {
    "name": "ipython",
    "version": 3
   },
   "file_extension": ".py",
   "mimetype": "text/x-python",
   "name": "python",
   "nbconvert_exporter": "python",
   "pygments_lexer": "ipython3",
   "version": "3.8.4"
  }
 },
 "nbformat": 4,
 "nbformat_minor": 5
}
